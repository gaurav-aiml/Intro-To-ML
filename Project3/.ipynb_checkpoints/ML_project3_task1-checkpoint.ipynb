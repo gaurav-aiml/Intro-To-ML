{
 "cells": [
  {
   "cell_type": "markdown",
   "metadata": {},
   "source": [
    "# K-Means Clustering"
   ]
  },
  {
   "cell_type": "code",
   "execution_count": 1,
   "metadata": {},
   "outputs": [
    {
     "name": "stderr",
     "output_type": "stream",
     "text": [
      "Using TensorFlow backend.\n"
     ]
    }
   ],
   "source": [
    "import tensorflow as tf\n",
    "import numpy as np\n",
    "import seaborn as sns\n",
    "from keras import regularizers\n",
    "from keras.models import Model,Sequential\n",
    "from keras.layers import Dense, Conv2D, MaxPooling2D, Flatten,Reshape, Input, UpSampling2D\n",
    "import matplotlib.pyplot as plt\n",
    "from sklearn.metrics import confusion_matrix, classification_report\n",
    "\n",
    "from sklearn.model_selection import train_test_split\n",
    "from sklearn import preprocessing\n",
    "from sklearn.linear_model import LogisticRegression\n",
    "from sklearn import metrics\n",
    "from sklearn.cluster import KMeans\n",
    "from sklearn.mixture import GaussianMixture as GMM\n",
    "from sklearn.metrics import accuracy_score"
   ]
  },
  {
   "cell_type": "code",
   "execution_count": 2,
   "metadata": {},
   "outputs": [
    {
     "name": "stdout",
     "output_type": "stream",
     "text": [
      "Downloading data from https://storage.googleapis.com/tensorflow/tf-keras-datasets/train-labels-idx1-ubyte.gz\n",
      "32768/29515 [=================================] - 0s 1us/step\n",
      "Downloading data from https://storage.googleapis.com/tensorflow/tf-keras-datasets/train-images-idx3-ubyte.gz\n",
      "26427392/26421880 [==============================] - 1s 0us/step\n",
      "Downloading data from https://storage.googleapis.com/tensorflow/tf-keras-datasets/t10k-labels-idx1-ubyte.gz\n",
      "8192/5148 [===============================================] - 0s 0us/step\n",
      "Downloading data from https://storage.googleapis.com/tensorflow/tf-keras-datasets/t10k-images-idx3-ubyte.gz\n",
      "4423680/4422102 [==============================] - 0s 0us/step\n",
      "(60000, 28, 28)\n",
      "(60000, 784)\n"
     ]
    }
   ],
   "source": [
    "# Reading data\n",
    "\n",
    "(x_train, y_train), (x_test, y_test) = tf.keras.datasets.fashion_mnist.load_data()\n",
    "print(x_train.shape)\n",
    "x_train = np.reshape(x_train,newshape = (60000, 784))\n",
    "x_test = np.reshape(x_test,newshape = (10000, 784))\n",
    "print(x_train.shape)\n",
    "x_train=x_train/255.0\n",
    "x_test=x_test/255.0"
   ]
  },
  {
   "cell_type": "code",
   "execution_count": 3,
   "metadata": {},
   "outputs": [
    {
     "name": "stdout",
     "output_type": "stream",
     "text": [
      "10\n"
     ]
    }
   ],
   "source": [
    "n_clusters = len(np.unique(y_train))\n",
    "model = KMeans(n_clusters = n_clusters, max_iter=500, random_state=4)\n",
    "print(n_clusters)"
   ]
  },
  {
   "cell_type": "code",
   "execution_count": 4,
   "metadata": {},
   "outputs": [
    {
     "data": {
      "text/plain": [
       "KMeans(algorithm='auto', copy_x=True, init='k-means++', max_iter=500,\n",
       "    n_clusters=10, n_init=10, n_jobs=1, precompute_distances='auto',\n",
       "    random_state=4, tol=0.0001, verbose=0)"
      ]
     },
     "execution_count": 4,
     "metadata": {},
     "output_type": "execute_result"
    }
   ],
   "source": [
    "model.fit(x_train)"
   ]
  },
  {
   "cell_type": "code",
   "execution_count": 21,
   "metadata": {},
   "outputs": [],
   "source": [
    "y_prediction = model.predict(x_test)"
   ]
  },
  {
   "cell_type": "code",
   "execution_count": 34,
   "metadata": {},
   "outputs": [
    {
     "name": "stdout",
     "output_type": "stream",
     "text": [
      "Accuracy: 0.51\n"
     ]
    }
   ],
   "source": [
    "print(\"Accuracy: {:.2f}\".format(metrics.normalized_mutual_info_score(y_test, y_prediction)))"
   ]
  },
  {
   "cell_type": "code",
   "execution_count": 23,
   "metadata": {},
   "outputs": [
    {
     "name": "stdout",
     "output_type": "stream",
     "text": [
      "10\n"
     ]
    }
   ],
   "source": [
    "print(len(np.unique(y_train)))"
   ]
  },
  {
   "cell_type": "code",
   "execution_count": 40,
   "metadata": {},
   "outputs": [
    {
     "data": {
      "text/plain": [
       "<matplotlib.axes._subplots.AxesSubplot at 0x2a68a45e4e0>"
      ]
     },
     "execution_count": 40,
     "metadata": {},
     "output_type": "execute_result"
    },
    {
     "data": {
      "image/png": "[encoded data removed]",
      "text/plain": [
       "<Figure size 432x288 with 2 Axes>"
      ]
     },
     "metadata": {},
     "output_type": "display_data"
    }
   ],
   "source": [
    "conf_mat = confusion_matrix(y_test, y_prediction)\n",
    "sns.heatmap(conf_mat,annot = True, fmt = 'd')"
   ]
  },
  {
   "cell_type": "code",
   "execution_count": null,
   "metadata": {},
   "outputs": [],
   "source": []
  },
  {
   "cell_type": "markdown",
   "metadata": {},
   "source": [
    "# Auto Encoder with K-means Clustering"
   ]
  },
  {
   "cell_type": "code",
   "execution_count": 109,
   "metadata": {},
   "outputs": [],
   "source": [
    "x_train = x_train.reshape((len(x_train), 28, 28, 1))\n",
    "x_test = x_test.reshape((len(x_test), 28, 28, 1))"
   ]
  },
  {
   "cell_type": "code",
   "execution_count": 110,
   "metadata": {},
   "outputs": [],
   "source": [
    "autoencoder = Sequential()\n",
    "\n",
    "# Encoder Layers\n",
    "autoencoder.add(Conv2D(16, (3, 3), activation='relu', padding='same', input_shape=x_train.shape[1:]))\n",
    "autoencoder.add(MaxPooling2D((2, 2), padding='same'))\n",
    "autoencoder.add(Conv2D(8, (3, 3), activation='relu', padding='same'))\n",
    "autoencoder.add(MaxPooling2D((2, 2), padding='same'))\n",
    "autoencoder.add(Conv2D(8, (3, 3), strides=(2,2), activation='relu', padding='same'))\n",
    "\n",
    "# Flatten encoding for visualization\n",
    "autoencoder.add(Flatten())\n",
    "autoencoder.add(Reshape((4, 4, 8)))\n",
    "\n",
    "# Decoder Layers\n",
    "autoencoder.add(Conv2D(8, (3, 3), activation='relu', padding='same'))\n",
    "autoencoder.add(UpSampling2D((2, 2)))\n",
    "autoencoder.add(Conv2D(8, (3, 3), activation='relu', padding='same'))\n",
    "autoencoder.add(UpSampling2D((2, 2)))\n",
    "autoencoder.add(Conv2D(16, (3, 3), activation='relu'))\n",
    "autoencoder.add(UpSampling2D((2, 2)))\n",
    "autoencoder.add(Conv2D(1, (3, 3), activation='sigmoid', padding='same'))"
   ]
  },
  {
   "cell_type": "code",
   "execution_count": 111,
   "metadata": {},
   "outputs": [
    {
     "name": "stdout",
     "output_type": "stream",
     "text": [
      "_________________________________________________________________\n",
      "Layer (type)                 Output Shape              Param #   \n",
      "=================================================================\n",
      "conv2d_46 (Conv2D)           (None, 28, 28, 16)        160       \n",
      "_________________________________________________________________\n",
      "max_pooling2d_15 (MaxPooling (None, 14, 14, 16)        0         \n",
      "_________________________________________________________________\n",
      "conv2d_47 (Conv2D)           (None, 14, 14, 8)         1160      \n",
      "_________________________________________________________________\n",
      "max_pooling2d_16 (MaxPooling (None, 7, 7, 8)           0         \n",
      "_________________________________________________________________\n",
      "conv2d_48 (Conv2D)           (None, 4, 4, 8)           584       \n",
      "_________________________________________________________________\n",
      "flatten_8 (Flatten)          (None, 128)               0         \n",
      "_________________________________________________________________\n",
      "reshape_7 (Reshape)          (None, 4, 4, 8)           0         \n",
      "_________________________________________________________________\n",
      "conv2d_49 (Conv2D)           (None, 4, 4, 8)           584       \n",
      "_________________________________________________________________\n",
      "up_sampling2d_19 (UpSampling (None, 8, 8, 8)           0         \n",
      "_________________________________________________________________\n",
      "conv2d_50 (Conv2D)           (None, 8, 8, 8)           584       \n",
      "_________________________________________________________________\n",
      "up_sampling2d_20 (UpSampling (None, 16, 16, 8)         0         \n",
      "_________________________________________________________________\n",
      "conv2d_51 (Conv2D)           (None, 14, 14, 16)        1168      \n",
      "_________________________________________________________________\n",
      "up_sampling2d_21 (UpSampling (None, 28, 28, 16)        0         \n",
      "_________________________________________________________________\n",
      "conv2d_52 (Conv2D)           (None, 28, 28, 1)         145       \n",
      "=================================================================\n",
      "Total params: 4,385\n",
      "Trainable params: 4,385\n",
      "Non-trainable params: 0\n",
      "_________________________________________________________________\n"
     ]
    }
   ],
   "source": [
    "autoencoder.summary()"
   ]
  },
  {
   "cell_type": "code",
   "execution_count": 112,
   "metadata": {},
   "outputs": [
    {
     "name": "stdout",
     "output_type": "stream",
     "text": [
      "_________________________________________________________________\n",
      "Layer (type)                 Output Shape              Param #   \n",
      "=================================================================\n",
      "conv2d_46_input (InputLayer) (None, 28, 28, 1)         0         \n",
      "_________________________________________________________________\n",
      "conv2d_46 (Conv2D)           (None, 28, 28, 16)        160       \n",
      "_________________________________________________________________\n",
      "max_pooling2d_15 (MaxPooling (None, 14, 14, 16)        0         \n",
      "_________________________________________________________________\n",
      "conv2d_47 (Conv2D)           (None, 14, 14, 8)         1160      \n",
      "_________________________________________________________________\n",
      "max_pooling2d_16 (MaxPooling (None, 7, 7, 8)           0         \n",
      "_________________________________________________________________\n",
      "conv2d_48 (Conv2D)           (None, 4, 4, 8)           584       \n",
      "_________________________________________________________________\n",
      "flatten_8 (Flatten)          (None, 128)               0         \n",
      "=================================================================\n",
      "Total params: 1,904\n",
      "Trainable params: 1,904\n",
      "Non-trainable params: 0\n",
      "_________________________________________________________________\n"
     ]
    }
   ],
   "source": [
    "encoder = Model(inputs=autoencoder.input, outputs=autoencoder.get_layer('flatten_8').output)\n",
    "encoder.summary()"
   ]
  },
  {
   "cell_type": "code",
   "execution_count": 113,
   "metadata": {},
   "outputs": [
    {
     "name": "stdout",
     "output_type": "stream",
     "text": [
      "Train on 60000 samples, validate on 10000 samples\n",
      "Epoch 1/100\n",
      "60000/60000 [==============================] - 14s 233us/step - loss: 0.3548 - val_loss: 0.3067\n",
      "Epoch 2/100\n",
      "60000/60000 [==============================] - 12s 208us/step - loss: 0.3004 - val_loss: 0.29912s  - ETA - ETA: 0s - loss: 0.300 - ETA: 0s - loss:  - ETA: 0s - loss: 0.300 - ETA: 0s - loss: 0.30\n",
      "Epoch 3/100\n",
      "60000/60000 [==============================] - 13s 224us/step - loss: 0.2955 - val_loss: 0.2957oss\n",
      "Epoch 4/100\n",
      "60000/60000 [==============================] - 13s 210us/step - loss: 0.2925 - val_loss: 0.2933\n",
      "Epoch 5/100\n",
      "60000/60000 [==============================] - 13s 212us/step - loss: 0.2901 - val_loss: 0.2912\n",
      "Epoch 6/100\n",
      "60000/60000 [==============================] - 13s 212us/step - loss: 0.2883 - val_loss: 0.2896\n",
      "Epoch 7/100\n",
      "60000/60000 [==============================] - 13s 213us/step - loss: 0.2869 - val_loss: 0.2887\n",
      "Epoch 8/100\n",
      "60000/60000 [==============================] - 13s 211us/step - loss: 0.2858 - val_loss: 0.2874\n",
      "Epoch 9/100\n",
      "60000/60000 [==============================] - 13s 211us/step - loss: 0.2848 - val_loss: 0.2863\n",
      "Epoch 10/100\n",
      "60000/60000 [==============================] - 13s 211us/step - loss: 0.2838 - val_loss: 0.2852\n",
      "Epoch 11/100\n",
      "60000/60000 [==============================] - 13s 212us/step - loss: 0.2829 - val_loss: 0.2862\n",
      "Epoch 12/100\n",
      "60000/60000 [==============================] - 13s 211us/step - loss: 0.2822 - val_loss: 0.2839\n",
      "Epoch 13/100\n",
      "60000/60000 [==============================] - 13s 212us/step - loss: 0.2816 - val_loss: 0.2832\n",
      "Epoch 14/100\n",
      "60000/60000 [==============================] - 13s 212us/step - loss: 0.2810 - val_loss: 0.2827ETA: 0s - loss: 0\n",
      "Epoch 15/100\n",
      "60000/60000 [==============================] - 13s 212us/step - loss: 0.2805 - val_loss: 0.2822\n",
      "Epoch 16/100\n",
      "60000/60000 [==============================] - 13s 211us/step - loss: 0.2801 - val_loss: 0.2819\n",
      "Epoch 17/100\n",
      "60000/60000 [==============================] - 13s 212us/step - loss: 0.2797 - val_loss: 0.2820\n",
      "Epoch 18/100\n",
      "60000/60000 [==============================] - 13s 211us/step - loss: 0.2793 - val_loss: 0.2811\n",
      "Epoch 19/100\n",
      "60000/60000 [==============================] - 13s 211us/step - loss: 0.2790 - val_loss: 0.2807\n",
      "Epoch 20/100\n",
      "60000/60000 [==============================] - 13s 211us/step - loss: 0.2787 - val_loss: 0.2805\n",
      "Epoch 21/100\n",
      "60000/60000 [==============================] - 13s 211us/step - loss: 0.2783 - val_loss: 0.2801\n",
      "Epoch 22/100\n",
      "60000/60000 [==============================] - 13s 211us/step - loss: 0.2780 - val_loss: 0.2797\n",
      "Epoch 23/100\n",
      "60000/60000 [==============================] - 13s 211us/step - loss: 0.2777 - val_loss: 0.2795\n",
      "Epoch 24/100\n",
      "60000/60000 [==============================] - 13s 212us/step - loss: 0.2774 - val_loss: 0.2792\n",
      "Epoch 25/100\n",
      "60000/60000 [==============================] - 13s 211us/step - loss: 0.2771 - val_loss: 0.2789\n",
      "Epoch 26/100\n",
      "60000/60000 [==============================] - 13s 211us/step - loss: 0.2768 - val_loss: 0.2786\n",
      "Epoch 27/100\n",
      "60000/60000 [==============================] - 13s 212us/step - loss: 0.2766 - val_loss: 0.2785\n",
      "Epoch 28/100\n",
      "60000/60000 [==============================] - 13s 212us/step - loss: 0.2764 - val_loss: 0.2781\n",
      "Epoch 29/100\n",
      "60000/60000 [==============================] - 13s 211us/step - loss: 0.2760 - val_loss: 0.2781\n",
      "Epoch 30/100\n",
      "60000/60000 [==============================] - 13s 211us/step - loss: 0.2758 - val_loss: 0.2777\n",
      "Epoch 31/100\n",
      "60000/60000 [==============================] - 13s 212us/step - loss: 0.2757 - val_loss: 0.2776\n",
      "Epoch 32/100\n",
      "60000/60000 [==============================] - 13s 212us/step - loss: 0.2754 - val_loss: 0.2772\n",
      "Epoch 33/100\n",
      "60000/60000 [==============================] - 13s 213us/step - loss: 0.2752 - val_loss: 0.2771\n",
      "Epoch 34/100\n",
      "60000/60000 [==============================] - 13s 212us/step - loss: 0.2751 - val_loss: 0.2788\n",
      "Epoch 35/100\n",
      "60000/60000 [==============================] - 13s 212us/step - loss: 0.2749 - val_loss: 0.2769\n",
      "Epoch 36/100\n",
      "60000/60000 [==============================] - 13s 211us/step - loss: 0.2747 - val_loss: 0.2771\n",
      "Epoch 37/100\n",
      "60000/60000 [==============================] - 13s 212us/step - loss: 0.2746 - val_loss: 0.2765\n",
      "Epoch 38/100\n",
      "60000/60000 [==============================] - 13s 211us/step - loss: 0.2744 - val_loss: 0.2766\n",
      "Epoch 39/100\n",
      "60000/60000 [==============================] - 13s 212us/step - loss: 0.2743 - val_loss: 0.2762\n",
      "Epoch 40/100\n",
      "60000/60000 [==============================] - 13s 212us/step - loss: 0.2742 - val_loss: 0.2761\n",
      "Epoch 41/100\n",
      "60000/60000 [==============================] - 13s 212us/step - loss: 0.2741 - val_loss: 0.2764\n",
      "Epoch 42/100\n",
      "60000/60000 [==============================] - 13s 212us/step - loss: 0.2739 - val_loss: 0.2758\n",
      "Epoch 43/100\n",
      "60000/60000 [==============================] - 13s 216us/step - loss: 0.2738 - val_loss: 0.2758\n",
      "Epoch 44/100\n",
      "60000/60000 [==============================] - 13s 213us/step - loss: 0.2737 - val_loss: 0.2756\n",
      "Epoch 45/100\n",
      "60000/60000 [==============================] - 13s 212us/step - loss: 0.2737 - val_loss: 0.2755\n",
      "Epoch 46/100\n",
      "60000/60000 [==============================] - 13s 211us/step - loss: 0.2735 - val_loss: 0.2754\n",
      "Epoch 47/100\n",
      "60000/60000 [==============================] - 13s 211us/step - loss: 0.2734 - val_loss: 0.2754\n",
      "Epoch 48/100\n",
      "60000/60000 [==============================] - 13s 211us/step - loss: 0.2733 - val_loss: 0.2753\n",
      "Epoch 49/100\n",
      "60000/60000 [==============================] - 13s 211us/step - loss: 0.2732 - val_loss: 0.2753\n",
      "Epoch 50/100\n",
      "60000/60000 [==============================] - 13s 212us/step - loss: 0.2732 - val_loss: 0.2752\n",
      "Epoch 51/100\n",
      "60000/60000 [==============================] - 13s 212us/step - loss: 0.2730 - val_loss: 0.2753TA: 0s - loss: \n",
      "Epoch 52/100\n",
      "60000/60000 [==============================] - 13s 212us/step - loss: 0.2730 - val_loss: 0.2750\n",
      "Epoch 53/100\n",
      "60000/60000 [==============================] - 13s 212us/step - loss: 0.2729 - val_loss: 0.2759\n",
      "Epoch 54/100\n",
      "60000/60000 [==============================] - 13s 212us/step - loss: 0.2728 - val_loss: 0.2755\n",
      "Epoch 55/100\n",
      "60000/60000 [==============================] - 13s 212us/step - loss: 0.2728 - val_loss: 0.2747\n",
      "Epoch 56/100\n",
      "60000/60000 [==============================] - 13s 212us/step - loss: 0.2726 - val_loss: 0.2747\n",
      "Epoch 57/100\n",
      "60000/60000 [==============================] - 13s 213us/step - loss: 0.2726 - val_loss: 0.2745ss:  - \n",
      "Epoch 58/100\n",
      "60000/60000 [==============================] - 13s 212us/step - loss: 0.2725 - val_loss: 0.2744\n",
      "Epoch 59/100\n",
      "60000/60000 [==============================] - 13s 211us/step - loss: 0.2724 - val_loss: 0.2746\n",
      "Epoch 60/100\n",
      "60000/60000 [==============================] - 13s 211us/step - loss: 0.2724 - val_loss: 0.2747\n",
      "Epoch 61/100\n",
      "60000/60000 [==============================] - 13s 212us/step - loss: 0.2723 - val_loss: 0.2742\n",
      "Epoch 62/100\n",
      "60000/60000 [==============================] - 13s 212us/step - loss: 0.2722 - val_loss: 0.2742\n",
      "Epoch 63/100\n",
      "60000/60000 [==============================] - 13s 212us/step - loss: 0.2722 - val_loss: 0.2744\n",
      "Epoch 64/100\n",
      "60000/60000 [==============================] - 13s 212us/step - loss: 0.2721 - val_loss: 0.2745\n",
      "Epoch 65/100\n",
      "60000/60000 [==============================] - 13s 212us/step - loss: 0.2720 - val_loss: 0.2748\n",
      "Epoch 66/100\n",
      "60000/60000 [==============================] - 13s 211us/step - loss: 0.2720 - val_loss: 0.2742\n",
      "Epoch 67/100\n",
      "60000/60000 [==============================] - 13s 212us/step - loss: 0.2720 - val_loss: 0.2740\n",
      "Epoch 68/100\n",
      "60000/60000 [==============================] - 13s 211us/step - loss: 0.2718 - val_loss: 0.2738\n",
      "Epoch 69/100\n",
      "60000/60000 [==============================] - 13s 212us/step - loss: 0.2718 - val_loss: 0.2738\n",
      "Epoch 70/100\n",
      "60000/60000 [==============================] - 13s 211us/step - loss: 0.2717 - val_loss: 0.2736\n",
      "Epoch 71/100\n",
      "60000/60000 [==============================] - 13s 212us/step - loss: 0.2717 - val_loss: 0.2739\n",
      "Epoch 72/100\n",
      "60000/60000 [==============================] - 13s 212us/step - loss: 0.2716 - val_loss: 0.2737\n",
      "Epoch 73/100\n",
      "60000/60000 [==============================] - 13s 211us/step - loss: 0.2716 - val_loss: 0.2739\n",
      "Epoch 74/100\n",
      "60000/60000 [==============================] - 13s 212us/step - loss: 0.2715 - val_loss: 0.2736\n",
      "Epoch 75/100\n",
      "60000/60000 [==============================] - 13s 212us/step - loss: 0.2715 - val_loss: 0.2736\n",
      "Epoch 76/100\n",
      "60000/60000 [==============================] - 13s 211us/step - loss: 0.2714 - val_loss: 0.2734\n",
      "Epoch 77/100\n",
      "60000/60000 [==============================] - 13s 211us/step - loss: 0.2714 - val_loss: 0.2745\n",
      "Epoch 78/100\n",
      "60000/60000 [==============================] - 13s 211us/step - loss: 0.2713 - val_loss: 0.2732\n",
      "Epoch 79/100\n",
      "60000/60000 [==============================] - 13s 211us/step - loss: 0.2712 - val_loss: 0.2731\n",
      "Epoch 80/100\n",
      "60000/60000 [==============================] - 13s 212us/step - loss: 0.2711 - val_loss: 0.2730\n",
      "Epoch 81/100\n",
      "60000/60000 [==============================] - 13s 213us/step - loss: 0.2710 - val_loss: 0.2738\n",
      "Epoch 82/100\n",
      "60000/60000 [==============================] - 13s 211us/step - loss: 0.2710 - val_loss: 0.2730\n",
      "Epoch 83/100\n",
      "60000/60000 [==============================] - 13s 212us/step - loss: 0.2709 - val_loss: 0.2728\n",
      "Epoch 84/100\n",
      "60000/60000 [==============================] - 13s 211us/step - loss: 0.2708 - val_loss: 0.2730\n",
      "Epoch 85/100\n",
      "60000/60000 [==============================] - 13s 212us/step - loss: 0.2708 - val_loss: 0.2730\n",
      "Epoch 86/100\n",
      "60000/60000 [==============================] - 13s 212us/step - loss: 0.2708 - val_loss: 0.2727\n",
      "Epoch 87/100\n",
      "60000/60000 [==============================] - 13s 212us/step - loss: 0.2707 - val_loss: 0.2727\n",
      "Epoch 88/100\n",
      "60000/60000 [==============================] - 13s 212us/step - loss: 0.2707 - val_loss: 0.2727\n",
      "Epoch 89/100\n",
      "60000/60000 [==============================] - 13s 212us/step - loss: 0.2706 - val_loss: 0.2727\n",
      "Epoch 90/100\n",
      "60000/60000 [==============================] - 13s 212us/step - loss: 0.2706 - val_loss: 0.2726\n",
      "Epoch 91/100\n",
      "60000/60000 [==============================] - 13s 211us/step - loss: 0.2705 - val_loss: 0.2724\n",
      "Epoch 92/100\n",
      "60000/60000 [==============================] - 13s 212us/step - loss: 0.2704 - val_loss: 0.2725\n",
      "Epoch 93/100\n",
      "60000/60000 [==============================] - 13s 212us/step - loss: 0.2704 - val_loss: 0.2723\n",
      "Epoch 94/100\n",
      "60000/60000 [==============================] - 13s 211us/step - loss: 0.2704 - val_loss: 0.2724\n",
      "Epoch 95/100\n",
      "60000/60000 [==============================] - 13s 212us/step - loss: 0.2704 - val_loss: 0.2723\n",
      "Epoch 96/100\n",
      "60000/60000 [==============================] - 13s 212us/step - loss: 0.2703 - val_loss: 0.2722\n",
      "Epoch 97/100\n",
      "60000/60000 [==============================] - 13s 212us/step - loss: 0.2703 - val_loss: 0.2725\n",
      "Epoch 98/100\n",
      "60000/60000 [==============================] - 13s 212us/step - loss: 0.2702 - val_loss: 0.2722\n",
      "Epoch 99/100\n",
      "60000/60000 [==============================] - 6185s 103ms/step - loss: 0.2702 - val_loss: 0.2725\n",
      "Epoch 100/100\n",
      "60000/60000 [==============================] - 16s 271us/step - loss: 0.2702 - val_loss: 0.2723\n"
     ]
    },
    {
     "data": {
      "text/plain": [
       "<keras.callbacks.History at 0x2a750de2f60>"
      ]
     },
     "execution_count": 113,
     "metadata": {},
     "output_type": "execute_result"
    }
   ],
   "source": [
    "autoencoder.compile(optimizer='adam', loss='binary_crossentropy')\n",
    "autoencoder.fit(x_train, x_train,\n",
    "                epochs=100,\n",
    "                batch_size=128,\n",
    "                validation_data=(x_test, x_test))"
   ]
  },
  {
   "cell_type": "code",
   "execution_count": 114,
   "metadata": {},
   "outputs": [],
   "source": [
    "num_images = 10\n",
    "np.random.seed(4)\n",
    "random_test_images = np.random.randint(x_test.shape[0], size=num_images)\n",
    "\n",
    "encoded_imgs_train = encoder.predict(x_train)\n",
    "decoded_imgs_train = autoencoder.predict(x_train)\n",
    "encoded_imgs_test = encoder.predict(x_test)\n",
    "decoded_imgs_test = autoencoder.predict(x_test)"
   ]
  },
  {
   "cell_type": "code",
   "execution_count": 115,
   "metadata": {},
   "outputs": [
    {
     "data": {
      "text/plain": [
       "KMeans(algorithm='auto', copy_x=True, init='k-means++', max_iter=500,\n",
       "    n_clusters=10, n_init=10, n_jobs=1, precompute_distances='auto',\n",
       "    random_state=4, tol=0.0001, verbose=0)"
      ]
     },
     "execution_count": 115,
     "metadata": {},
     "output_type": "execute_result"
    }
   ],
   "source": [
    "model = KMeans(n_clusters = n_clusters, max_iter=500, random_state=4)\n",
    "model.fit(encoded_imgs_train)"
   ]
  },
  {
   "cell_type": "code",
   "execution_count": 116,
   "metadata": {},
   "outputs": [],
   "source": [
    "y_prediction = model.predict(encoded_imgs_test)"
   ]
  },
  {
   "cell_type": "code",
   "execution_count": 117,
   "metadata": {},
   "outputs": [
    {
     "name": "stdout",
     "output_type": "stream",
     "text": [
      "Accuracy: 0.55\n"
     ]
    }
   ],
   "source": [
    "print(\"Accuracy: {:.2f}\".format(metrics.normalized_mutual_info_score(y_test, y_prediction)))"
   ]
  },
  {
   "cell_type": "code",
   "execution_count": null,
   "metadata": {},
   "outputs": [],
   "source": []
  },
  {
   "cell_type": "markdown",
   "metadata": {},
   "source": [
    "# Auto Encoder with GMM clustering"
   ]
  },
  {
   "cell_type": "code",
   "execution_count": 118,
   "metadata": {},
   "outputs": [],
   "source": [
    "x_train = x_train.reshape((len(x_train), 28, 28, 1))\n",
    "x_test = x_test.reshape((len(x_test), 28, 28, 1))"
   ]
  },
  {
   "cell_type": "code",
   "execution_count": 119,
   "metadata": {},
   "outputs": [],
   "source": [
    "autoencoder = Sequential()\n",
    "\n",
    "# Encoder Layers\n",
    "autoencoder.add(Conv2D(16, (3, 3), activation='relu', padding='same', input_shape=x_train.shape[1:]))\n",
    "autoencoder.add(MaxPooling2D((2, 2), padding='same'))\n",
    "autoencoder.add(Conv2D(8, (3, 3), activation='relu', padding='same'))\n",
    "autoencoder.add(MaxPooling2D((2, 2), padding='same'))\n",
    "autoencoder.add(Conv2D(8, (3, 3), strides=(2,2), activation='relu', padding='same'))\n",
    "\n",
    "# Flatten encoding for visualization\n",
    "autoencoder.add(Flatten())\n",
    "autoencoder.add(Reshape((4, 4, 8)))\n",
    "\n",
    "# Decoder Layers\n",
    "autoencoder.add(Conv2D(8, (3, 3), activation='relu', padding='same'))\n",
    "autoencoder.add(UpSampling2D((2, 2)))\n",
    "autoencoder.add(Conv2D(8, (3, 3), activation='relu', padding='same'))\n",
    "autoencoder.add(UpSampling2D((2, 2)))\n",
    "autoencoder.add(Conv2D(16, (3, 3), activation='relu'))\n",
    "autoencoder.add(UpSampling2D((2, 2)))\n",
    "autoencoder.add(Conv2D(1, (3, 3), activation='sigmoid', padding='same'))"
   ]
  },
  {
   "cell_type": "code",
   "execution_count": 121,
   "metadata": {},
   "outputs": [],
   "source": [
    "encoder = Model(inputs=autoencoder.input, outputs=autoencoder.get_layer('flatten_9').output)\n"
   ]
  },
  {
   "cell_type": "code",
   "execution_count": null,
   "metadata": {},
   "outputs": [],
   "source": [
    "autoencoder.compile(optimizer='adam', loss='binary_crossentropy')\n",
    "autoencoder.fit(x_train, x_train,\n",
    "                epochs=100,\n",
    "                batch_size=128,\n",
    "                validation_data=(x_test, x_test))"
   ]
  },
  {
   "cell_type": "code",
   "execution_count": null,
   "metadata": {},
   "outputs": [],
   "source": [
    "num_images = 10\n",
    "np.random.seed(4)\n",
    "random_test_images = np.random.randint(x_test.shape[0], size=num_images)\n",
    "\n",
    "encoded_imgs_train = encoder.predict(x_train)\n",
    "decoded_imgs_train = autoencoder.predict(x_train)\n",
    "encoded_imgs_test = encoder.predict(x_test)\n",
    "decoded_imgs_test = autoencoder.predict(x_test)"
   ]
  },
  {
   "cell_type": "code",
   "execution_count": 127,
   "metadata": {},
   "outputs": [
    {
     "data": {
      "text/plain": [
       "GaussianMixture(covariance_type='full', init_params='kmeans', max_iter=100,\n",
       "        means_init=None, n_components=10, n_init=1, precisions_init=None,\n",
       "        random_state=None, reg_covar=1e-06, tol=0.001, verbose=0,\n",
       "        verbose_interval=10, warm_start=False, weights_init=None)"
      ]
     },
     "execution_count": 127,
     "metadata": {},
     "output_type": "execute_result"
    }
   ],
   "source": [
    "model = GMM(n_components=n_clusters)\n",
    "model.fit(encoded_imgs_train)"
   ]
  },
  {
   "cell_type": "code",
   "execution_count": 128,
   "metadata": {},
   "outputs": [
    {
     "name": "stdout",
     "output_type": "stream",
     "text": [
      "Accuracy: 0.60\n"
     ]
    }
   ],
   "source": [
    "y_prediction = model.predict(encoded_imgs_test)\n",
    "print(\"Accuracy: {:.2f}\".format(metrics.normalized_mutual_info_score(y_test, y_prediction)))"
   ]
  },
  {
   "cell_type": "code",
   "execution_count": null,
   "metadata": {},
   "outputs": [],
   "source": []
  },
  {
   "cell_type": "code",
   "execution_count": null,
   "metadata": {},
   "outputs": [],
   "source": []
  },
  {
   "cell_type": "code",
   "execution_count": null,
   "metadata": {},
   "outputs": [],
   "source": [
    "plt.plot(train_model.history['acc'])   # Plotting the accuracy\n",
    "plt.xlabel('Epochs')\n",
    "plt.ylabel('Accuracy')\n",
    "plt.title('Accuracy plot')\n",
    "plt.show()\n",
    "\n"
   ]
  },
  {
   "cell_type": "code",
   "execution_count": null,
   "metadata": {},
   "outputs": [],
   "source": [
    "plt.plot(train_model.history['loss'])  # Plotting the loss\n",
    "plt.xlabel('Epochs')\n",
    "plt.ylabel('Loss')\n",
    "plt.title('Loss plot')\n",
    "plt.show()\n",
    "\n"
   ]
  }
 ],
 "metadata": {
  "kernelspec": {
   "display_name": "Python [default]",
   "language": "python",
   "name": "python3"
  },
  "language_info": {
   "codemirror_mode": {
    "name": "ipython",
    "version": 3
   },
   "file_extension": ".py",
   "mimetype": "text/x-python",
   "name": "python",
   "nbconvert_exporter": "python",
   "pygments_lexer": "ipython3",
   "version": "3.6.7"
  }
 },
 "nbformat": 4,
 "nbformat_minor": 2
}
