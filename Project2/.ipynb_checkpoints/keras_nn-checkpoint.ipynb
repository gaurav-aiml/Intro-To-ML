{
 "cells": [
  {
   "cell_type": "code",
   "execution_count": 111,
   "metadata": {},
   "outputs": [],
   "source": [
    "import util_mnist_reader\n",
    "import numpy as np\n",
    "from keras.models import Sequential\n",
    "from keras.layers import Dense\n",
    "import matplotlib.pyplot as plt\n",
    "from sklearn.metrics import confusion_matrix, classification_report"
   ]
  },
  {
   "cell_type": "code",
   "execution_count": 78,
   "metadata": {},
   "outputs": [],
   "source": [
    "X_train, y_train = util_mnist_reader.load_mnist('data_with_notebook/data/fashion', kind='train')\n",
    "X_test, y_test = util_mnist_reader.load_mnist('data_with_notebook/data/fashion', kind='t10k')"
   ]
  },
  {
   "cell_type": "code",
   "execution_count": 79,
   "metadata": {},
   "outputs": [],
   "source": [
    "model = Sequential()\n",
    "\n",
    "model.add(Dense(units = 200, activation = 'sigmoid', input_dim = 784))\n",
    "model.add(Dense(units = 100, activation = 'sigmoid'))\n",
    "model.add(Dense(units = 50, activation = 'sigmoid'))\n",
    "model.add(Dense(units = 10, activation = 'softmax'))"
   ]
  },
  {
   "cell_type": "code",
   "execution_count": 81,
   "metadata": {},
   "outputs": [],
   "source": [
    "model.compile(loss='categorical_crossentropy',\n",
    "              optimizer='sgd',\n",
    "              metrics=['accuracy'])"
   ]
  },
  {
   "cell_type": "code",
   "execution_count": 82,
   "metadata": {},
   "outputs": [],
   "source": [
    "def one_hot(y, n_labels):\n",
    "    mat = np.zeros((len(y), n_labels))\n",
    "    for i, val in enumerate(y):\n",
    "        mat[i, val] = 1\n",
    "    return mat"
   ]
  },
  {
   "cell_type": "code",
   "execution_count": 83,
   "metadata": {},
   "outputs": [
    {
     "data": {
      "text/plain": [
       "((60000, 784), (60000, 1))"
      ]
     },
     "execution_count": 83,
     "metadata": {},
     "output_type": "execute_result"
    }
   ],
   "source": [
    "X_train.shape, y_train.reshape(-1,1).shape"
   ]
  },
  {
   "cell_type": "code",
   "execution_count": 84,
   "metadata": {},
   "outputs": [
    {
     "name": "stdout",
     "output_type": "stream",
     "text": [
      "Epoch 1/100\n",
      "60000/60000 [==============================] - 3s 43us/step - loss: 1.9219 - accuracy: 0.4499\n",
      "Epoch 2/100\n",
      "60000/60000 [==============================] - 2s 41us/step - loss: 1.1779 - accuracy: 0.6476\n",
      "Epoch 3/100\n",
      "60000/60000 [==============================] - 2s 41us/step - loss: 0.8430 - accuracy: 0.7293\n",
      "Epoch 4/100\n",
      "60000/60000 [==============================] - 2s 42us/step - loss: 0.7146 - accuracy: 0.7566\n",
      "Epoch 5/100\n",
      "60000/60000 [==============================] - 2s 42us/step - loss: 0.6684 - accuracy: 0.7680\n",
      "Epoch 6/100\n",
      "60000/60000 [==============================] - 3s 45us/step - loss: 0.6595 - accuracy: 0.7680\n",
      "Epoch 7/100\n",
      "60000/60000 [==============================] - 3s 43us/step - loss: 0.6652 - accuracy: 0.7676\n",
      "Epoch 8/100\n",
      "60000/60000 [==============================] - 2s 42us/step - loss: 0.6514 - accuracy: 0.7727\n",
      "Epoch 9/100\n",
      "60000/60000 [==============================] - 3s 43us/step - loss: 0.6539 - accuracy: 0.7653\n",
      "Epoch 10/100\n",
      "60000/60000 [==============================] - 3s 42us/step - loss: 0.6639 - accuracy: 0.7638\n",
      "Epoch 11/100\n",
      "60000/60000 [==============================] - 3s 42us/step - loss: 0.6859 - accuracy: 0.7580\n",
      "Epoch 12/100\n",
      "60000/60000 [==============================] - 3s 42us/step - loss: 0.6854 - accuracy: 0.7526\n",
      "Epoch 13/100\n",
      "60000/60000 [==============================] - 3s 42us/step - loss: 0.6987 - accuracy: 0.7515\n",
      "Epoch 14/100\n",
      "60000/60000 [==============================] - 3s 42us/step - loss: 0.6977 - accuracy: 0.7465\n",
      "Epoch 15/100\n",
      "60000/60000 [==============================] - 3s 43us/step - loss: 0.6987 - accuracy: 0.7448\n",
      "Epoch 16/100\n",
      "60000/60000 [==============================] - 3s 42us/step - loss: 0.6823 - accuracy: 0.7434\n",
      "Epoch 17/100\n",
      "60000/60000 [==============================] - 3s 42us/step - loss: 0.7258 - accuracy: 0.7291\n",
      "Epoch 18/100\n",
      "60000/60000 [==============================] - 3s 42us/step - loss: 0.7364 - accuracy: 0.7292\n",
      "Epoch 19/100\n",
      "60000/60000 [==============================] - 3s 42us/step - loss: 0.7264 - accuracy: 0.7312\n",
      "Epoch 20/100\n",
      "60000/60000 [==============================] - 3s 45us/step - loss: 0.7430 - accuracy: 0.7252\n",
      "Epoch 21/100\n",
      "60000/60000 [==============================] - 3s 52us/step - loss: 0.7229 - accuracy: 0.7311\n",
      "Epoch 22/100\n",
      "60000/60000 [==============================] - 2s 42us/step - loss: 0.7121 - accuracy: 0.7354\n",
      "Epoch 23/100\n",
      "60000/60000 [==============================] - 2s 42us/step - loss: 0.7277 - accuracy: 0.7372\n",
      "Epoch 24/100\n",
      "60000/60000 [==============================] - 3s 46us/step - loss: 0.7214 - accuracy: 0.7330\n",
      "Epoch 25/100\n",
      "60000/60000 [==============================] - 3s 44us/step - loss: 0.7242 - accuracy: 0.7305\n",
      "Epoch 26/100\n",
      "60000/60000 [==============================] - 3s 53us/step - loss: 0.7198 - accuracy: 0.7258\n",
      "Epoch 27/100\n",
      "60000/60000 [==============================] - 3s 46us/step - loss: 0.6996 - accuracy: 0.7383\n",
      "Epoch 28/100\n",
      "60000/60000 [==============================] - 3s 47us/step - loss: 0.7048 - accuracy: 0.7314\n",
      "Epoch 29/100\n",
      "60000/60000 [==============================] - 3s 46us/step - loss: 0.6936 - accuracy: 0.7375\n",
      "Epoch 30/100\n",
      "60000/60000 [==============================] - 3s 46us/step - loss: 0.6873 - accuracy: 0.7411\n",
      "Epoch 31/100\n",
      "60000/60000 [==============================] - 3s 47us/step - loss: 0.6839 - accuracy: 0.7395\n",
      "Epoch 32/100\n",
      "60000/60000 [==============================] - 3s 46us/step - loss: 0.6821 - accuracy: 0.7413\n",
      "Epoch 33/100\n",
      "60000/60000 [==============================] - 3s 46us/step - loss: 0.7024 - accuracy: 0.7265\n",
      "Epoch 34/100\n",
      "60000/60000 [==============================] - 3s 53us/step - loss: 0.6714 - accuracy: 0.7526\n",
      "Epoch 35/100\n",
      "60000/60000 [==============================] - 3s 44us/step - loss: 0.6670 - accuracy: 0.7527\n",
      "Epoch 36/100\n",
      "60000/60000 [==============================] - 3s 49us/step - loss: 0.6627 - accuracy: 0.7577\n",
      "Epoch 37/100\n",
      "60000/60000 [==============================] - 3s 44us/step - loss: 0.6841 - accuracy: 0.7502\n",
      "Epoch 38/100\n",
      "60000/60000 [==============================] - 3s 45us/step - loss: 0.6964 - accuracy: 0.7460\n",
      "Epoch 39/100\n",
      "60000/60000 [==============================] - 3s 45us/step - loss: 0.7130 - accuracy: 0.7337\n",
      "Epoch 40/100\n",
      "60000/60000 [==============================] - 3s 45us/step - loss: 0.6662 - accuracy: 0.7530\n",
      "Epoch 41/100\n",
      "60000/60000 [==============================] - 3s 45us/step - loss: 0.6847 - accuracy: 0.7451\n",
      "Epoch 42/100\n",
      "60000/60000 [==============================] - 3s 46us/step - loss: 0.6942 - accuracy: 0.7433\n",
      "Epoch 43/100\n",
      "60000/60000 [==============================] - 3s 45us/step - loss: 0.6824 - accuracy: 0.7491\n",
      "Epoch 44/100\n",
      "60000/60000 [==============================] - 3s 46us/step - loss: 0.6841 - accuracy: 0.7489\n",
      "Epoch 45/100\n",
      "60000/60000 [==============================] - 3s 46us/step - loss: 0.6510 - accuracy: 0.7610\n",
      "Epoch 46/100\n",
      "60000/60000 [==============================] - 3s 48us/step - loss: 0.6592 - accuracy: 0.7534\n",
      "Epoch 47/100\n",
      "60000/60000 [==============================] - 3s 51us/step - loss: 0.6789 - accuracy: 0.7371\n",
      "Epoch 48/100\n",
      "60000/60000 [==============================] - 3s 47us/step - loss: 0.6849 - accuracy: 0.7417\n",
      "Epoch 49/100\n",
      "60000/60000 [==============================] - 3s 46us/step - loss: 0.6839 - accuracy: 0.7428\n",
      "Epoch 50/100\n",
      "60000/60000 [==============================] - 3s 46us/step - loss: 0.6870 - accuracy: 0.7389\n",
      "Epoch 51/100\n",
      "60000/60000 [==============================] - 3s 46us/step - loss: 0.6946 - accuracy: 0.7350\n",
      "Epoch 52/100\n",
      "60000/60000 [==============================] - 3s 53us/step - loss: 0.6671 - accuracy: 0.7384\n",
      "Epoch 53/100\n",
      "60000/60000 [==============================] - 3s 45us/step - loss: 0.6964 - accuracy: 0.7326\n",
      "Epoch 54/100\n",
      "60000/60000 [==============================] - 3s 48us/step - loss: 0.6878 - accuracy: 0.7357\n",
      "Epoch 55/100\n",
      "60000/60000 [==============================] - 3s 46us/step - loss: 0.7008 - accuracy: 0.7277\n",
      "Epoch 56/100\n",
      "60000/60000 [==============================] - 3s 44us/step - loss: 0.7015 - accuracy: 0.7334\n",
      "Epoch 57/100\n",
      "60000/60000 [==============================] - 3s 44us/step - loss: 0.6915 - accuracy: 0.7327\n",
      "Epoch 58/100\n",
      "60000/60000 [==============================] - 3s 43us/step - loss: 0.6639 - accuracy: 0.7555\n",
      "Epoch 59/100\n",
      "60000/60000 [==============================] - 3s 43us/step - loss: 0.6863 - accuracy: 0.7428\n",
      "Epoch 60/100\n",
      "60000/60000 [==============================] - 3s 43us/step - loss: 0.6680 - accuracy: 0.7528\n",
      "Epoch 61/100\n",
      "60000/60000 [==============================] - 3s 42us/step - loss: 0.6579 - accuracy: 0.7573\n",
      "Epoch 62/100\n",
      "60000/60000 [==============================] - 3s 42us/step - loss: 0.6764 - accuracy: 0.7499\n",
      "Epoch 63/100\n",
      "60000/60000 [==============================] - 3s 44us/step - loss: 0.6612 - accuracy: 0.7500\n",
      "Epoch 64/100\n",
      "60000/60000 [==============================] - 3s 49us/step - loss: 0.6525 - accuracy: 0.7556\n",
      "Epoch 65/100\n",
      "60000/60000 [==============================] - 3s 46us/step - loss: 0.6720 - accuracy: 0.7500\n",
      "Epoch 66/100\n",
      "60000/60000 [==============================] - 3s 46us/step - loss: 0.6655 - accuracy: 0.7483\n",
      "Epoch 67/100\n",
      "60000/60000 [==============================] - 3s 45us/step - loss: 0.6458 - accuracy: 0.7545\n",
      "Epoch 68/100\n",
      "60000/60000 [==============================] - 3s 46us/step - loss: 0.6468 - accuracy: 0.7612\n",
      "Epoch 69/100\n",
      "60000/60000 [==============================] - 3s 45us/step - loss: 0.6440 - accuracy: 0.7632\n",
      "Epoch 70/100\n",
      "60000/60000 [==============================] - 3s 45us/step - loss: 0.6579 - accuracy: 0.7589\n",
      "Epoch 71/100\n",
      "60000/60000 [==============================] - 3s 45us/step - loss: 0.6442 - accuracy: 0.7614\n",
      "Epoch 72/100\n",
      "60000/60000 [==============================] - 3s 44us/step - loss: 0.6457 - accuracy: 0.7600\n",
      "Epoch 73/100\n",
      "60000/60000 [==============================] - 3s 45us/step - loss: 0.6396 - accuracy: 0.7666\n",
      "Epoch 74/100\n",
      "60000/60000 [==============================] - 3s 45us/step - loss: 0.6493 - accuracy: 0.7610\n",
      "Epoch 75/100\n",
      "60000/60000 [==============================] - 3s 45us/step - loss: 0.6391 - accuracy: 0.7642\n",
      "Epoch 76/100\n",
      "60000/60000 [==============================] - 3s 45us/step - loss: 0.6797 - accuracy: 0.7544\n",
      "Epoch 77/100\n",
      "60000/60000 [==============================] - 3s 46us/step - loss: 0.6699 - accuracy: 0.7560\n",
      "Epoch 78/100\n",
      "60000/60000 [==============================] - 2s 41us/step - loss: 0.6833 - accuracy: 0.7346\n",
      "Epoch 79/100\n",
      "60000/60000 [==============================] - 3s 42us/step - loss: 0.6816 - accuracy: 0.7445\n",
      "Epoch 80/100\n",
      "60000/60000 [==============================] - 2s 41us/step - loss: 0.6624 - accuracy: 0.7584\n",
      "Epoch 81/100\n",
      "60000/60000 [==============================] - 2s 41us/step - loss: 0.6859 - accuracy: 0.7493\n",
      "Epoch 82/100\n",
      "60000/60000 [==============================] - 2s 41us/step - loss: 0.6571 - accuracy: 0.7522\n",
      "Epoch 83/100\n",
      "60000/60000 [==============================] - 2s 41us/step - loss: 0.6602 - accuracy: 0.7522\n",
      "Epoch 84/100\n",
      "60000/60000 [==============================] - 2s 41us/step - loss: 0.6542 - accuracy: 0.7588\n",
      "Epoch 85/100\n",
      "60000/60000 [==============================] - 2s 41us/step - loss: 0.6838 - accuracy: 0.7418\n",
      "Epoch 86/100\n",
      "60000/60000 [==============================] - 2s 41us/step - loss: 0.6732 - accuracy: 0.7494\n",
      "Epoch 87/100\n",
      "60000/60000 [==============================] - 2s 41us/step - loss: 0.6676 - accuracy: 0.7509\n",
      "Epoch 88/100\n",
      "60000/60000 [==============================] - 2s 42us/step - loss: 0.6706 - accuracy: 0.7491\n",
      "Epoch 89/100\n",
      "60000/60000 [==============================] - 2s 42us/step - loss: 0.7147 - accuracy: 0.7266\n",
      "Epoch 90/100\n",
      "60000/60000 [==============================] - 2s 41us/step - loss: 0.6719 - accuracy: 0.7491\n",
      "Epoch 91/100\n",
      "60000/60000 [==============================] - 2s 41us/step - loss: 0.6439 - accuracy: 0.7609\n",
      "Epoch 92/100\n",
      "60000/60000 [==============================] - 2s 41us/step - loss: 0.6442 - accuracy: 0.7532\n",
      "Epoch 93/100\n",
      "60000/60000 [==============================] - 2s 41us/step - loss: 0.6351 - accuracy: 0.7647\n",
      "Epoch 94/100\n",
      "60000/60000 [==============================] - 3s 42us/step - loss: 0.6458 - accuracy: 0.7540\n",
      "Epoch 95/100\n",
      "60000/60000 [==============================] - 3s 45us/step - loss: 0.6510 - accuracy: 0.7596\n",
      "Epoch 96/100\n",
      "60000/60000 [==============================] - 2s 41us/step - loss: 0.6891 - accuracy: 0.7387\n",
      "Epoch 97/100\n",
      "60000/60000 [==============================] - 3s 42us/step - loss: 0.6601 - accuracy: 0.7520\n",
      "Epoch 98/100\n",
      "60000/60000 [==============================] - 2s 41us/step - loss: 0.6541 - accuracy: 0.7613\n",
      "Epoch 99/100\n",
      "60000/60000 [==============================] - 2s 41us/step - loss: 0.6322 - accuracy: 0.7651\n",
      "Epoch 100/100\n",
      "60000/60000 [==============================] - 2s 41us/step - loss: 0.6470 - accuracy: 0.7661\n"
     ]
    }
   ],
   "source": [
    "train_model = model.fit(X_train, one_hot(y_train, 10), epochs = 100, batch_size = 25)"
   ]
  },
  {
   "cell_type": "code",
   "execution_count": 85,
   "metadata": {},
   "outputs": [
    {
     "name": "stdout",
     "output_type": "stream",
     "text": [
      "10000/10000 [==============================] - 0s 24us/step\n"
     ]
    }
   ],
   "source": [
    "loss_and_accuracy = model.evaluate(X_test, one_hot(y_test, 10), batch_size = 25)"
   ]
  },
  {
   "cell_type": "code",
   "execution_count": 86,
   "metadata": {},
   "outputs": [
    {
     "data": {
      "text/plain": [
       "[0.6883652233332396, 0.7470999956130981]"
      ]
     },
     "execution_count": 86,
     "metadata": {},
     "output_type": "execute_result"
    }
   ],
   "source": [
    "loss_and_accuracy"
   ]
  },
  {
   "cell_type": "code",
   "execution_count": 90,
   "metadata": {},
   "outputs": [
    {
     "data": {
      "text/plain": [
       "[<matplotlib.lines.Line2D at 0x62e63b438>]"
      ]
     },
     "execution_count": 90,
     "metadata": {},
     "output_type": "execute_result"
    },
    {
     "data": {
      "image/png": "[encoded data removed]",
      "text/plain": [
       "<Figure size 432x288 with 1 Axes>"
      ]
     },
     "metadata": {
      "needs_background": "light"
     },
     "output_type": "display_data"
    }
   ],
   "source": [
    "plt.plot(train_model.history['accuracy'])"
   ]
  },
  {
   "cell_type": "code",
   "execution_count": 91,
   "metadata": {},
   "outputs": [
    {
     "data": {
      "text/plain": [
       "[<matplotlib.lines.Line2D at 0x62e690cf8>]"
      ]
     },
     "execution_count": 91,
     "metadata": {},
     "output_type": "execute_result"
    },
    {
     "data": {
      "image/png": "[encoded data removed]",
      "text/plain": [
       "<Figure size 432x288 with 1 Axes>"
      ]
     },
     "metadata": {
      "needs_background": "light"
     },
     "output_type": "display_data"
    }
   ],
   "source": [
    "plt.plot(train_model.history['loss'])"
   ]
  },
  {
   "cell_type": "code",
   "execution_count": 98,
   "metadata": {},
   "outputs": [],
   "source": [
    "pred_test = model.predict_classes(X_test) "
   ]
  },
  {
   "cell_type": "code",
   "execution_count": 113,
   "metadata": {
    "scrolled": false
   },
   "outputs": [
    {
     "name": "stdout",
     "output_type": "stream",
     "text": [
      "[[757   5  14  98  16   0  86   0  23   1]\n",
      " [  6 915  19  47   9   0   1   0   3   0]\n",
      " [ 17   3 572   9 308   0  76   0  14   1]\n",
      " [ 42  75   8 741  84   0  42   0   8   0]\n",
      " [  2   3 123  47 777   2  35   0  11   0]\n",
      " [  1   1   0   0   0 847   0  83  13  55]\n",
      " [188   3 132  66 340   0 234   0  37   0]\n",
      " [  0   0   0   0   0  37   0 944   1  18]\n",
      " [  2   2  25   5  14   6  34   3 907   2]\n",
      " [  0   0   0   0   0   9   0 213   1 777]]\n"
     ]
    }
   ],
   "source": [
    "conf_mat = confusion_matrix(y_test, pred_test)\n",
    "print(conf_mat)"
   ]
  },
  {
   "cell_type": "code",
   "execution_count": 112,
   "metadata": {
    "scrolled": true
   },
   "outputs": [
    {
     "name": "stdout",
     "output_type": "stream",
     "text": [
      "              precision    recall  f1-score   support\n",
      "\n",
      "           0       0.75      0.76      0.75      1000\n",
      "           1       0.91      0.92      0.91      1000\n",
      "           2       0.64      0.57      0.60      1000\n",
      "           3       0.73      0.74      0.74      1000\n",
      "           4       0.50      0.78      0.61      1000\n",
      "           5       0.94      0.85      0.89      1000\n",
      "           6       0.46      0.23      0.31      1000\n",
      "           7       0.76      0.94      0.84      1000\n",
      "           8       0.89      0.91      0.90      1000\n",
      "           9       0.91      0.78      0.84      1000\n",
      "\n",
      "    accuracy                           0.75     10000\n",
      "   macro avg       0.75      0.75      0.74     10000\n",
      "weighted avg       0.75      0.75      0.74     10000\n",
      "\n"
     ]
    }
   ],
   "source": [
    "report = classification_report(y_test, pred_test)\n",
    "print(report)"
   ]
  },
  {
   "cell_type": "code",
   "execution_count": null,
   "metadata": {},
   "outputs": [],
   "source": []
  }
 ],
 "metadata": {
  "kernelspec": {
   "display_name": "Python [default]",
   "language": "python",
   "name": "python3"
  },
  "language_info": {
   "codemirror_mode": {
    "name": "ipython",
    "version": 3
   },
   "file_extension": ".py",
   "mimetype": "text/x-python",
   "name": "python",
   "nbconvert_exporter": "python",
   "pygments_lexer": "ipython3",
   "version": "3.6.7"
  }
 },
 "nbformat": 4,
 "nbformat_minor": 2
}
