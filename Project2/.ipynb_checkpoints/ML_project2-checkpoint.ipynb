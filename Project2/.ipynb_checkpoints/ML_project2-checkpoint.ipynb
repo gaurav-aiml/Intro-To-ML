{
 "cells": [
  {
   "cell_type": "code",
   "execution_count": 1,
   "metadata": {},
   "outputs": [],
   "source": [
    "import util_mnist_reader\n",
    "import numpy as np\n",
    "import pandas as pd\n",
    "#import seaborn as sns\n",
    "#from pylab import rcParams\n",
    "#import string\n",
    "import matplotlib.pyplot as plt\n",
    "import math\n",
    "#from matplotlib import rc\n",
    "#from google.colab import drive\n",
    "#from sklearn.model_selection import train_test_split\n",
    "#from collections import Counter, defaultdict\n",
    "from sklearn.metrics import accuracy_score\n",
    "from sklearn.metrics import classification_report, confusion_matrix\n",
    "#import struct\n",
    "#from scipy.special import expit\n",
    "#from sklearn.manifold import TSNE\n",
    "#from ast import literal_eval"
   ]
  },
  {
   "cell_type": "code",
   "execution_count": 2,
   "metadata": {},
   "outputs": [],
   "source": [
    "CLASS_NAMES = ['T-shirt/top', 'Trouser', 'Pullover', 'Dress', 'Coat', \n",
    "               'Sandal',      'Shirt',   'Sneaker',  'Bag',   'Ankle boot']"
   ]
  },
  {
   "cell_type": "code",
   "execution_count": 3,
   "metadata": {},
   "outputs": [],
   "source": [
    "def mle(y, axis=1):\n",
    "    return np.argmax(y, axis)\n",
    "\n",
    "\n",
    "def one_hot(y, n_labels):\n",
    "    mat = np.zeros((len(y), n_labels))\n",
    "    for i, val in enumerate(y):\n",
    "        mat[i, val] = 1\n",
    "    return mat"
   ]
  },
  {
   "cell_type": "code",
   "execution_count": 4,
   "metadata": {},
   "outputs": [],
   "source": [
    "def L2_reg(lambda_, w1, w2):\n",
    "    return (lambda_ / 2.0) * (np.sum(w1 ** 2) + np.sum(w2 ** 2))\n",
    "\n",
    "\n",
    "def L1_reg(lambda_, w1, w2):\n",
    "    return (lambda_ / 2.0) * (np.abs(w1).sum() + np.abs(w2).sum())\n",
    "\n",
    "\n",
    "def cross_entropy(outputs, y_target):\n",
    "    return -np.sum(np.log(outputs) * y_target, axis=1)"
   ]
  },
  {
   "cell_type": "code",
   "execution_count": 5,
   "metadata": {},
   "outputs": [],
   "source": [
    "def plot_error(model):\n",
    "    plt.plot(range(len(model.error_)), model.error_)\n",
    "    plt.ylabel('Error')\n",
    "    plt.xlabel('Epochs')\n",
    "    plt.show()"
   ]
  },
  {
   "cell_type": "markdown",
   "metadata": {},
   "source": [
    "# Reading data"
   ]
  },
  {
   "cell_type": "code",
   "execution_count": 6,
   "metadata": {},
   "outputs": [],
   "source": [
    "N_FEATURES = 28 * 28 # 28x28 pixels for the images\n",
    "N_CLASSES = 10"
   ]
  },
  {
   "cell_type": "code",
   "execution_count": 7,
   "metadata": {},
   "outputs": [],
   "source": [
    "X_train, y_train = util_mnist_reader.load_mnist('data_with_notebook/data/fashion', kind='train')\n",
    "X_test, y_test = util_mnist_reader.load_mnist('data_with_notebook/data/fashion', kind='t10k')"
   ]
  },
  {
   "cell_type": "code",
   "execution_count": 8,
   "metadata": {},
   "outputs": [],
   "source": [
    "def sigmoid(z):\n",
    "    return 1 / (1 + np.exp(-z.astype(float)))"
   ]
  },
  {
   "cell_type": "code",
   "execution_count": 9,
   "metadata": {},
   "outputs": [],
   "source": [
    "def sigmoid_prime(z):\n",
    "    sg = sigmoid(z)\n",
    "    return sg * (1 - sg)"
   ]
  },
  {
   "cell_type": "code",
   "execution_count": 10,
   "metadata": {},
   "outputs": [],
   "source": [
    "def softmax(z):\n",
    "    return (np.exp(z.T) / np.sum(np.exp(z), axis=1)).T"
   ]
  },
  {
   "cell_type": "code",
   "execution_count": 13,
   "metadata": {},
   "outputs": [],
   "source": [
    "class NNClassifier:\n",
    "\n",
    "    def __init__(self, n_classes, n_features, n_hidden_units=30,\n",
    "                 l1=0.0, l2=0.0, epochs=500, learning_rate=0.01,\n",
    "                 n_batches=1):\n",
    "\n",
    "        self.n_classes = n_classes\n",
    "        self.n_features = n_features\n",
    "        self.n_hidden_units = n_hidden_units\n",
    "        self.w1, self.w2 = self._init_weights()\n",
    "        self.l1 = l1\n",
    "        self.l2 = l2\n",
    "        self.epochs = epochs\n",
    "        self.learning_rate = learning_rate\n",
    "        self.n_batches = n_batches\n",
    "\n",
    "    def _init_weights(self):\n",
    "        w1 = np.random.uniform(-1.0, 1.0,\n",
    "                               size=(self.n_hidden_units, self.n_features))        \n",
    "        w2 = np.random.uniform(-1.0, 1.0,\n",
    "                               size=(self.n_classes, self.n_hidden_units))\n",
    "        return w1, w2\n",
    "      \n",
    "    def _forward(self, X):\n",
    "        net_input = X.copy()\n",
    "        net_hidden = self.w1.dot(net_input.T)\n",
    "        act_hidden = sigmoid(net_hidden)\n",
    "        net_out = self.w2.dot(act_hidden)\n",
    "        act_out = sigmoid(net_out)\n",
    "        return net_input, net_hidden, act_hidden, net_out, act_out\n",
    "    \n",
    "    def _backward(self, net_input, net_hidden, act_hidden, act_out, y):\n",
    "        sigma3 = act_out - y\n",
    "        sigma2 = self.w2.T.dot(sigma3) * sigmoid_prime(net_hidden)\n",
    "        grad1 = sigma2.dot(net_input)\n",
    "        grad2 = sigma3.dot(act_hidden.T)\n",
    "        return grad1, grad2      \n",
    "\n",
    "    def _error(self, y, output):\n",
    "        L1_term = L1_reg(self.l1, self.w1, self.w2)\n",
    "        L2_term = L2_reg(self.l2, self.w1, self.w2)\n",
    "        error = cross_entropy(output, y) + L1_term + L2_term\n",
    "        return 0.5 * np.mean(error)\n",
    "\n",
    "    def _backprop_step(self, X, y):\n",
    "        net_input, net_hidden, act_hidden, net_out, act_out = self._forward(X)\n",
    "        y = y.T\n",
    "\n",
    "        grad1, grad2 = self._backward(net_input, net_hidden, act_hidden, act_out, y)\n",
    "\n",
    "        # regularize\n",
    "        grad1 += (self.w1 * (self.l1 + self.l2))\n",
    "        grad2 += (self.w2 * (self.l1 + self.l2))\n",
    "\n",
    "        error = self._error(y, act_out)\n",
    "        \n",
    "        return error, grad1, grad2\n",
    "\n",
    "    def predict(self, X):\n",
    "        Xt = X.copy()\n",
    "        net_input, net_hidden, act_hidden, net_out, act_out = self._forward(Xt)\n",
    "        return mle(net_out.T)\n",
    "    \n",
    "    def predict_proba(self, X):\n",
    "        Xt = X.copy()\n",
    "        net_input, net_hidden, act_hidden, net_out, act_out = self._forward(Xt)\n",
    "        return softmax(act_out.T)\n",
    "\n",
    "    def fit(self, X, y):\n",
    "        self.error_ = []\n",
    "        X_data, y_data = X.copy(), y.copy()\n",
    "        y_data_enc = one_hot(y_data, self.n_classes)\n",
    "                \n",
    "        X_mbs = np.array_split(X_data, self.n_batches)\n",
    "        y_mbs = np.array_split(y_data_enc, self.n_batches)\n",
    "        \n",
    "        for i in range(self.epochs):\n",
    "            \n",
    "            epoch_errors = []\n",
    "\n",
    "            for Xi, yi in zip(X_mbs, y_mbs):\n",
    "                \n",
    "                # update weights\n",
    "                error, grad1, grad2 = self._backprop_step(Xi, yi)\n",
    "                epoch_errors.append(error)\n",
    "                self.w1 -= (self.learning_rate * grad1)\n",
    "                self.w2 -= (self.learning_rate * grad2)\n",
    "            self.error_.append(np.mean(epoch_errors))\n",
    "        return self\n",
    "    \n",
    "    def score(self, X, y):\n",
    "        y_hat = self.predict(X)\n",
    "        return np.sum(y == y_hat, axis=0) / float(X.shape[0])"
   ]
  },
  {
   "cell_type": "code",
   "execution_count": 14,
   "metadata": {},
   "outputs": [],
   "source": [
    "nn = NNClassifier(\n",
    "    n_classes=N_CLASSES, \n",
    "    n_features=N_FEATURES,\n",
    "    n_hidden_units=50,\n",
    "    l2=0.5,\n",
    "    l1=0.0,\n",
    "    epochs=300,\n",
    "    learning_rate=0.001,\n",
    "    n_batches=25\n",
    ").fit(X_train, y_train);"
   ]
  },
  {
   "cell_type": "code",
   "execution_count": 15,
   "metadata": {},
   "outputs": [
    {
     "data": {
      "image/png": "[encoded data removed]",
      "text/plain": [
       "<Figure size 432x288 with 1 Axes>"
      ]
     },
     "metadata": {
      "needs_background": "light"
     },
     "output_type": "display_data"
    }
   ],
   "source": [
    "plot_error(nn)"
   ]
  },
  {
   "cell_type": "code",
   "execution_count": 16,
   "metadata": {},
   "outputs": [
    {
     "name": "stdout",
     "output_type": "stream",
     "text": [
      "Train Accuracy: 59.93%\n",
      "Test Accuracy: 59.25%\n"
     ]
    }
   ],
   "source": [
    "print('Train Accuracy: %.2f%%' % (nn.score(X_train, y_train) * 100))\n",
    "print('Test Accuracy: %.2f%%' % (nn.score(X_test, y_test) * 100))"
   ]
  },
  {
   "cell_type": "code",
   "execution_count": 17,
   "metadata": {},
   "outputs": [
    {
     "data": {
      "text/plain": [
       "array([[0.09726172, 0.09166465, 0.09189506, 0.09339141, 0.09179537,\n",
       "        0.09173136, 0.16401746, 0.0916355 , 0.09333165, 0.09327583]])"
      ]
     },
     "execution_count": 17,
     "metadata": {},
     "output_type": "execute_result"
    }
   ],
   "source": [
    "nn.predict_proba(X_test[1:2])"
   ]
  },
  {
   "cell_type": "code",
   "execution_count": 19,
   "metadata": {},
   "outputs": [],
   "source": [
    "from sklearn.preprocessing import scale\n",
    "\n",
    "X_train_scaled = scale(X_train.astype(np.float64))\n",
    "X_test_scaled = scale(X_test.astype(np.float64))\n",
    "\n",
    "nn = NNClassifier(\n",
    "    n_classes=N_CLASSES, \n",
    "    n_features=N_FEATURES,\n",
    "    n_hidden_units=50,\n",
    "    l2=0.5,\n",
    "    l1=0.0,\n",
    "    epochs=300,\n",
    "    learning_rate=0.001,\n",
    "    n_batches=25\n",
    ").fit(X_train_scaled, y_train);"
   ]
  },
  {
   "cell_type": "code",
   "execution_count": 20,
   "metadata": {},
   "outputs": [
    {
     "data": {
      "image/png": "[encoded data removed]",
      "text/plain": [
       "<Figure size 432x288 with 1 Axes>"
      ]
     },
     "metadata": {
      "needs_background": "light"
     },
     "output_type": "display_data"
    }
   ],
   "source": [
    "plot_error(nn)"
   ]
  },
  {
   "cell_type": "code",
   "execution_count": 21,
   "metadata": {},
   "outputs": [
    {
     "name": "stdout",
     "output_type": "stream",
     "text": [
      "Train Accuracy: 92.48%\n",
      "Test Accuracy: 86.70%\n"
     ]
    }
   ],
   "source": [
    "print('Train Accuracy: %.2f%%' % (nn.score(X_train_scaled, y_train) * 100))\n",
    "print('Test Accuracy: %.2f%%' % (nn.score(X_test_scaled, y_test) * 100))"
   ]
  },
  {
   "cell_type": "code",
   "execution_count": null,
   "metadata": {},
   "outputs": [],
   "source": []
  }
 ],
 "metadata": {
  "kernelspec": {
   "display_name": "Python [default]",
   "language": "python",
   "name": "python3"
  },
  "language_info": {
   "codemirror_mode": {
    "name": "ipython",
    "version": 3
   },
   "file_extension": ".py",
   "mimetype": "text/x-python",
   "name": "python",
   "nbconvert_exporter": "python",
   "pygments_lexer": "ipython3",
   "version": "3.6.7"
  }
 },
 "nbformat": 4,
 "nbformat_minor": 2
}
