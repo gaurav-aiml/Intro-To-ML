{
 "cells": [
  {
   "cell_type": "code",
   "execution_count": 4,
   "metadata": {},
   "outputs": [],
   "source": [
    "import util_mnist_reader\n",
    "import numpy as np\n",
    "from keras.models import Sequential\n",
    "from keras.layers import Dense, Conv2D, Flatten, MaxPool2D\n",
    "import matplotlib.pyplot as plt\n",
    "from sklearn.metrics import confusion_matrix, classification_report"
   ]
  },
  {
   "cell_type": "code",
   "execution_count": 5,
   "metadata": {},
   "outputs": [],
   "source": [
    "X_train, y_train = util_mnist_reader.load_mnist('data/fashion', kind='train')\n",
    "X_test, y_test = util_mnist_reader.load_mnist('data/fashion', kind='t10k')\n",
    "\n",
    "X_train = X_train.reshape(X_train.shape[0], 28, 28, 1)\n",
    "X_test = X_test.reshape(X_test.shape[0], 28, 28, 1)"
   ]
  },
  {
   "cell_type": "code",
   "execution_count": 6,
   "metadata": {},
   "outputs": [],
   "source": [
    "model = Sequential()\n",
    "\n",
    "model.add(Conv2D(100, kernel_size = 3, activation = 'sigmoid', input_shape = (28, 28, 1)))\n",
    "model.add(MaxPool2D())\n",
    "model.add(Conv2D(50, kernel_size = 3, activation = 'sigmoid'))\n",
    "model.add(MaxPool2D())\n",
    "model.add(Flatten())\n",
    "model.add(Dense(units = 10, activation = 'softmax'))"
   ]
  },
  {
   "cell_type": "code",
   "execution_count": 7,
   "metadata": {},
   "outputs": [],
   "source": [
    "model.compile(loss='categorical_crossentropy',optimizer='sgd',metrics=['accuracy'])"
   ]
  },
  {
   "cell_type": "code",
   "execution_count": 8,
   "metadata": {},
   "outputs": [],
   "source": [
    "def one_hot(y, n_labels):\n",
    "    mat = np.zeros((len(y), n_labels))\n",
    "    for i, val in enumerate(y):\n",
    "        mat[i, val] = 1\n",
    "    return mat"
   ]
  },
  {
   "cell_type": "code",
   "execution_count": 9,
   "metadata": {},
   "outputs": [
    {
     "name": "stdout",
     "output_type": "stream",
     "text": [
      "Epoch 1/3\n",
      "60000/60000 [==============================] - 53s 885us/step - loss: 2.0642 - accuracy: 0.4874\n",
      "Epoch 2/3\n",
      "60000/60000 [==============================] - 51s 843us/step - loss: 1.4766 - accuracy: 0.6821\n",
      "Epoch 3/3\n",
      "60000/60000 [==============================] - 46s 763us/step - loss: 1.0763 - accuracy: 0.7142\n"
     ]
    }
   ],
   "source": [
    "train_model = model.fit(X_train, one_hot(y_train, 10), epochs = 10, batch_size = 600)"
   ]
  },
  {
   "cell_type": "code",
   "execution_count": 10,
   "metadata": {},
   "outputs": [
    {
     "name": "stdout",
     "output_type": "stream",
     "text": [
      "10000/10000 [==============================] - 2s 207us/step\n"
     ]
    }
   ],
   "source": [
    "loss_and_accuracy = model.evaluate(X_test, one_hot(y_test, 10), batch_size = 25)"
   ]
  },
  {
   "cell_type": "code",
   "execution_count": 11,
   "metadata": {},
   "outputs": [
    {
     "data": {
      "text/plain": [
       "[0.976668825596571, 0.7146000266075134]"
      ]
     },
     "execution_count": 11,
     "metadata": {},
     "output_type": "execute_result"
    }
   ],
   "source": [
    "loss_and_accuracy"
   ]
  },
  {
   "cell_type": "code",
   "execution_count": 12,
   "metadata": {},
   "outputs": [
    {
     "data": {
      "text/plain": [
       "[<matplotlib.lines.Line2D at 0x1a3225d4a8>]"
      ]
     },
     "execution_count": 12,
     "metadata": {},
     "output_type": "execute_result"
    },
    {
     "data": {
      "image/png": "[encoded data removed]",
      "text/plain": [
       "<Figure size 432x288 with 1 Axes>"
      ]
     },
     "metadata": {},
     "output_type": "display_data"
    }
   ],
   "source": [
    "plt.plot(train_model.history['accuracy'])"
   ]
  },
  {
   "cell_type": "code",
   "execution_count": 13,
   "metadata": {},
   "outputs": [
    {
     "data": {
      "text/plain": [
       "[<matplotlib.lines.Line2D at 0x1a322ddf98>]"
      ]
     },
     "execution_count": 13,
     "metadata": {},
     "output_type": "execute_result"
    },
    {
     "data": {
      "image/png": "[encoded data removed]",
      "text/plain": [
       "<Figure size 432x288 with 1 Axes>"
      ]
     },
     "metadata": {},
     "output_type": "display_data"
    }
   ],
   "source": [
    "plt.plot(train_model.history['loss'])"
   ]
  },
  {
   "cell_type": "code",
   "execution_count": 12,
   "metadata": {},
   "outputs": [],
   "source": [
    "pred_test = model.predict_classes(X_test)"
   ]
  },
  {
   "cell_type": "code",
   "execution_count": 18,
   "metadata": {},
   "outputs": [
    {
     "name": "stdout",
     "output_type": "stream",
     "text": [
      "[[821   2  54  77  16   3   3   0  24   0]\n",
      " [  5 914  18  42  19   0   0   0   2   0]\n",
      " [ 19   0 760   6 201   0   3   0  11   0]\n",
      " [ 29   7  42 836  79   0   6   0   1   0]\n",
      " [  0   1 190  28 770   4   2   0   5   0]\n",
      " [  0   0   0   3   0 895   0  61   7  34]\n",
      " [250   4 390  44 256   5  21   0  30   0]\n",
      " [  0   0   0   0   0  30   0 873   0  97]\n",
      " [  0   2  37  10  11   8   0   7 921   4]\n",
      " [  0   0   1   2   0   2   0  41   1 953]]\n"
     ]
    }
   ],
   "source": [
    "conf_mat = confusion_matrix(y_test, pred_test)\n",
    "print(conf_mat)"
   ]
  },
  {
   "cell_type": "code",
   "execution_count": 15,
   "metadata": {},
   "outputs": [
    {
     "name": "stdout",
     "output_type": "stream",
     "text": [
      "              precision    recall  f1-score   support\n",
      "\n",
      "           0       0.73      0.82      0.77      1000\n",
      "           1       0.98      0.91      0.95      1000\n",
      "           2       0.51      0.76      0.61      1000\n",
      "           3       0.80      0.84      0.82      1000\n",
      "           4       0.57      0.77      0.65      1000\n",
      "           5       0.95      0.90      0.92      1000\n",
      "           6       0.60      0.02      0.04      1000\n",
      "           7       0.89      0.87      0.88      1000\n",
      "           8       0.92      0.92      0.92      1000\n",
      "           9       0.88      0.95      0.91      1000\n",
      "\n",
      "    accuracy                           0.78     10000\n",
      "   macro avg       0.78      0.78      0.75     10000\n",
      "weighted avg       0.78      0.78      0.75     10000\n",
      "\n"
     ]
    }
   ],
   "source": [
    "report = classification_report(y_test, pred_test)\n",
    "print(report)"
   ]
  },
  {
   "cell_type": "code",
   "execution_count": null,
   "metadata": {},
   "outputs": [],
   "source": []
  }
 ],
 "metadata": {
  "kernelspec": {
   "display_name": "Python [default]",
   "language": "python",
   "name": "python3"
  },
  "language_info": {
   "codemirror_mode": {
    "name": "ipython",
    "version": 3
   },
   "file_extension": ".py",
   "mimetype": "text/x-python",
   "name": "python",
   "nbconvert_exporter": "python",
   "pygments_lexer": "ipython3",
   "version": "3.6.7"
  }
 },
 "nbformat": 4,
 "nbformat_minor": 2
}
