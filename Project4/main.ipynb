{
 "cells": [
  {
   "cell_type": "markdown",
   "metadata": {
    "colab_type": "text",
    "id": "F1sa_QJ55-fu"
   },
   "source": [
    "# Q-Learning"
   ]
  },
  {
   "cell_type": "code",
   "execution_count": 1,
   "metadata": {
    "colab": {},
    "colab_type": "code",
    "id": "M_PLd07ie8k1"
   },
   "outputs": [],
   "source": [
    "import numpy as np\n",
    "import matplotlib.pyplot as plt\n",
    "import gym\n",
    "import gym.spaces\n",
    "import time\n",
    "import copy\n",
    "import threading\n",
    "import time\n",
    "import collections\n",
    "from IPython.display import clear_output"
   ]
  },
  {
   "cell_type": "markdown",
   "metadata": {
    "colab_type": "text",
    "id": "6AsLthEre8kw"
   },
   "source": [
    "## Basic Environment"
   ]
  },
  {
   "cell_type": "code",
   "execution_count": 2,
   "metadata": {
    "colab": {},
    "colab_type": "code",
    "id": "1KZhxOunpbNp"
   },
   "outputs": [],
   "source": [
    "class GridEnvironment(gym.Env):\n",
    "    metadata = { 'render.modes': ['human'] }\n",
    "    \n",
    "    def __init__(self, normalize=False, size=4):\n",
    "        self.observation_space = gym.spaces.Box(0, size, (size,))\n",
    "        self.action_space = gym.spaces.Discrete(4)\n",
    "        self.max_timesteps = size*2 + 1\n",
    "        self.normalize = normalize\n",
    "        self.size = size\n",
    "\n",
    "        # Generate State Transition Table\n",
    "        self.transition_matrix = []\n",
    "        for x in range(size + 1):\n",
    "            state_x = []\n",
    "            for y in range(size + 1):\n",
    "                state_y = []\n",
    "                for a in range(4):\n",
    "                    one_hot = np.zeros(4)\n",
    "                    one_hot[a] = 1\n",
    "                    state_y.append(one_hot)\n",
    "                state_x.append(state_y)\n",
    "            self.transition_matrix.append(state_x)\n",
    "        \n",
    "    def transition_func(self, x, y, action, return_probs=False):\n",
    "        probs = self.transition_matrix[x][y][action]\n",
    "        if return_probs:\n",
    "            return probs\n",
    "        else:\n",
    "            return np.random.choice(len(probs), p=probs)\n",
    "\n",
    "    def _get_distance(self, x, y):\n",
    "        return abs(x[0] - y[0]) + abs(x[1] - y[1])\n",
    "        \n",
    "    def reset(self):\n",
    "        self.timestep = 0\n",
    "        self.agent_pos = [0, 0]\n",
    "        self.goal_pos = [self.size, self.size]\n",
    "        self.state = np.zeros((self.size + 1, self.size + 1))\n",
    "        self.state[tuple(self.agent_pos)] = 1\n",
    "        self.state[tuple(self.goal_pos)] = 0.5\n",
    "        self.prev_distance = self._get_distance(self.agent_pos, self.goal_pos)\n",
    "        return np.array(self.agent_pos)/1.\n",
    "    \n",
    "    def step(self, action):\n",
    "        action_taken = self.transition_func(self.agent_pos[0], self.agent_pos[1], action)\n",
    "        self.state = np.random.choice(self.observation_space.shape[0])\n",
    "        if action_taken == 0:\n",
    "            self.agent_pos[0] += 1\n",
    "        if action_taken == 1:\n",
    "            self.agent_pos[0] -= 1\n",
    "        if action_taken == 2:\n",
    "            self.agent_pos[1] += 1\n",
    "        if action_taken == 3:\n",
    "            self.agent_pos[1] -= 1\n",
    "          \n",
    "        self.agent_pos = np.clip(self.agent_pos, 0, self.size)\n",
    "        self.state = np.zeros((self.size + 1, self.size + 1))\n",
    "        self.state[tuple(self.agent_pos)] = 1\n",
    "        self.state[tuple(self.goal_pos)] = 0.5\n",
    "        \n",
    "        current_distance = self._get_distance(self.agent_pos, self.goal_pos)\n",
    "        if current_distance < self.prev_distance:\n",
    "            reward = 1\n",
    "        elif current_distance > self.prev_distance:\n",
    "            reward = -1\n",
    "        else:\n",
    "            reward = -1\n",
    "        self.prev_distance = current_distance\n",
    "        \n",
    "        self.timestep += 1\n",
    "        if self.timestep >= self.max_timesteps or current_distance == 0:\n",
    "            done = True\n",
    "        else:\n",
    "            done = False\n",
    "        info = {}\n",
    "        \n",
    "        obs = self.agent_pos\n",
    "        if self.normalize:\n",
    "            obs = obs/self.size\n",
    "        return obs, reward, done, info\n",
    "        \n",
    "    def render(self, mode='human'):\n",
    "        plt.imshow(self.state)"
   ]
  },
  {
   "cell_type": "code",
   "execution_count": 3,
   "metadata": {
    "colab": {},
    "colab_type": "code",
    "id": "hy2YHvlNe8lW"
   },
   "outputs": [
    {
     "data": {
      "image/png": "[encoded data removed]",
      "text/plain": [
       "<Figure size 432x288 with 1 Axes>"
      ]
     },
     "metadata": {},
     "output_type": "display_data"
    }
   ],
   "source": [
    "env = GridEnvironment()\n",
    "obs = env.reset()\n",
    "env.render()"
   ]
  },
  {
   "cell_type": "markdown",
   "metadata": {
    "colab_type": "text",
    "id": "Bc3VOQuJF1el"
   },
   "source": [
    "## Random Agent"
   ]
  },
  {
   "cell_type": "code",
   "execution_count": 4,
   "metadata": {
    "colab": {},
    "colab_type": "code",
    "id": "z9XqqwQtFr8k"
   },
   "outputs": [],
   "source": [
    "class RandomAgent:\n",
    "    def __init__(self, env):\n",
    "        self.env = env\n",
    "        self.observation_space = env.observation_space\n",
    "        self.action_space = env.action_space\n",
    "\n",
    "    def policy(self, observation):\n",
    "        return np.random.choice(self.action_space.n)\n",
    "        \n",
    "    def step(self, observation, verbose=False):\n",
    "        return self.policy(observation)"
   ]
  },
  {
   "cell_type": "code",
   "execution_count": 5,
   "metadata": {
    "colab": {},
    "colab_type": "code",
    "id": "0S5tBBqfF-s3"
   },
   "outputs": [
    {
     "data": {
      "image/png": "[encoded data removed]",
      "text/plain": [
       "<Figure size 432x288 with 1 Axes>"
      ]
     },
     "metadata": {},
     "output_type": "display_data"
    }
   ],
   "source": [
    "env = GridEnvironment(normalize=True)\n",
    "agent = RandomAgent(env)\n",
    "\n",
    "obs = env.reset()\n",
    "done = False\n",
    "agent.epsilon = 0\n",
    "env.render()\n",
    "plt.show()\n",
    "\n",
    "while not done:\n",
    "    action = agent.step(obs, verbose=True)\n",
    "    obs, reward, done, info = env.step(action)\n",
    "    clear_output(True)\n",
    "    env.render()\n",
    "    plt.show()"
   ]
  },
  {
   "cell_type": "markdown",
   "metadata": {
    "colab_type": "text",
    "id": "JCKzZh7u0zFJ"
   },
   "source": [
    "## Heuristic Agent"
   ]
  },
  {
   "cell_type": "code",
   "execution_count": 6,
   "metadata": {
    "colab": {},
    "colab_type": "code",
    "id": "aVGLhrTG0yQp"
   },
   "outputs": [],
   "source": [
    "class HeuristicAgent:\n",
    "    def __init__(self, env):\n",
    "        self.env = env\n",
    "        self.observation_space = env.observation_space\n",
    "        self.action_space = env.action_space\n",
    "\n",
    "    def policy(self, observation):\n",
    "        # 0 - down\n",
    "        # 1 - up\n",
    "        # 2 - right\n",
    "        # 3 - left\n",
    "        if (observation[0] < 1.):\n",
    "            return 0\n",
    "        if (observation[1] < 1.):\n",
    "            return 2\n",
    "        return 0\n",
    "        \n",
    "    def step(self, observation, verbose=False):\n",
    "        if verbose:\n",
    "            print(observation)\n",
    "        return self.policy(observation)"
   ]
  },
  {
   "cell_type": "code",
   "execution_count": 7,
   "metadata": {
    "colab": {},
    "colab_type": "code",
    "id": "kZGSRSzo07v-"
   },
   "outputs": [
    {
     "data": {
      "image/png": "[encoded data removed]",
      "text/plain": [
       "<Figure size 432x288 with 1 Axes>"
      ]
     },
     "metadata": {},
     "output_type": "display_data"
    }
   ],
   "source": [
    "env = GridEnvironment(normalize=True)\n",
    "agent = HeuristicAgent(env)\n",
    "\n",
    "obs = env.reset()\n",
    "done = False\n",
    "agent.epsilon = 0\n",
    "env.render()\n",
    "plt.show()\n",
    "\n",
    "while not done:\n",
    "    action = agent.step(obs, verbose=True)\n",
    "    obs, reward, done, info = env.step(action)\n",
    "    clear_output(True)\n",
    "    env.render()\n",
    "    plt.show()"
   ]
  },
  {
   "cell_type": "markdown",
   "metadata": {
    "colab_type": "text",
    "id": "oSjsMD6Ze8ld"
   },
   "source": [
    "## Tabular Q-Learning\n",
    "\n",
    "### Epsilon\n",
    "\n",
    "Our agent will randomly select its action at first by a certain percentage, called ‘exploration rate’ or ‘epsilon’. This is because at first, it is better for the agent to try all kinds of things before it starts to see the patterns. When it is not deciding the action randomly, the agent will predict the reward value based on the current state and pick the action that will give the highest reward. We want our agent to decrease the number of random action, as it goes, so we indroduce an exponential-decay epsilon, that eventually will allow our agent to explore the evironment. \\\\\n",
    "\n",
    "\n",
    "\n",
    "###  <font color='red'>Implementing policy function.</font>  <br>\n",
    "- Our agent will randomly select its action at first by a certain percentage, called ‘exploration rate’ or ‘epsilon’. This is because at first, it is better for the agent to try all kinds of things before it starts to see the patterns. Select a random uniform number. If it's less than epsilon, return the random choice action space.\n",
    "- When it is not deciding the action randomly, the agent will predict the reward value based on the current state and pick the action that will give the highest reward. \n",
    "\\begin{align} \\notag\n",
    "\\pi\\left(s_{t}\\right)=\\underset{a \\in A}{\\operatorname{argmax}} Q_{\\theta}\\left(s_{t}, a\\right)\n",
    "\\end{align} \n",
    "- Return the policy\n",
    "\n",
    "epsilon $\\rightarrow$ self.epsilon </br> \n",
    "action_space $\\rightarrow$ self.action_space\n",
    "\n",
    "###  <font color='red'>Update Q-table</font>  <br>\n",
    "\\begin{align} \\notag\n",
    "Q^{n e w}\\left(s_{t}, a_{t}\\right) \\leftarrow(1-\\alpha) \\cdot \\underbrace{Q\\left(s_{t}, a_{t}\\right)}_{\\text {old value }}+\\underbrace{\\alpha}_{\\text {learning rate }} \\cdot \\overbrace{(\\underbrace{r_{t}}_{\\text {reward }} + \\underbrace{\\gamma}_{\\text {discount factor }} \\underbrace{\\max _{a} Q\\left(s_{t+1}, a\\right)}_{a})}^{\\text {learned value }}\n",
    "            \\end{align} "
   ]
  },
  {
   "cell_type": "code",
   "execution_count": 26,
   "metadata": {
    "colab": {},
    "colab_type": "code",
    "id": "l88irSuqe8lf"
   },
   "outputs": [],
   "source": [
    "class QLearningAgent:\n",
    "    def __init__(self, env, epsilon=1.0, lr=0.1, gamma=0.9):\n",
    "        self.env = env\n",
    "        self.observation_space = env.observation_space\n",
    "        self.action_space = env.action_space\n",
    "        q_table_dim = env.observation_space.shape[0] + 1\n",
    "        self.q_table = np.zeros((q_table_dim, q_table_dim, env.action_space.n))\n",
    "        self.epsilon = epsilon\n",
    "        self.lr = lr\n",
    "        self.gamma = gamma\n",
    "\n",
    "    def policy(self, observation):\n",
    "      # Code for policy (Task 1) (30 points)\n",
    "    \n",
    "        max_q = 0\n",
    "        action = \"\"\n",
    "        #generate random action according to the epsilon greedy strategy\n",
    "        if np.random.uniform(0, 1) <= self.epsilon:\n",
    "            action = np.random.choice(self.action_space.n)\n",
    "        else:\n",
    "            for act in range(self.action_space.n):\n",
    "                new_q = self.q_table[int(observation[0])][int(observation[1])][act]\n",
    "                if new_q >= max_q:\n",
    "                    action = act\n",
    "                    max_q = new_q\n",
    "        return action\n",
    "\n",
    "    def step(self, observation):\n",
    "        return self.policy(observation)\n",
    "\n",
    "    def update(self, state, action, reward, next_state):\n",
    "        state = state.astype(int)\n",
    "        next_state = next_state.astype(int)\n",
    "        \n",
    "        # Code for updating Q Table (Task 2) (20 points)\n",
    "        prev_q_val = self.q_table[state[0]][state[1]][action]\n",
    "        max_q_val = np.amax(self.q_table[next_state[0]][next_state[1]])\n",
    "        next_q_val = (1 - self.lr) * prev_q_val + self.lr * (reward + self.gamma * max_q_val)\n",
    "        self.q_table[state[0]][state[1]][action] = next_q_val\n",
    "\n",
    "    def set_epsilon(self, epsilon):\n",
    "        self.epsilon = epsilon"
   ]
  },
  {
   "cell_type": "markdown",
   "metadata": {
    "colab_type": "text",
    "id": "UNKDdzD3e8lj"
   },
   "source": [
    "### Training"
   ]
  },
  {
   "cell_type": "code",
   "execution_count": 27,
   "metadata": {
    "colab": {},
    "colab_type": "code",
    "id": "2SDbl2Kue8lk"
   },
   "outputs": [
    {
     "name": "stdout",
     "output_type": "stream",
     "text": [
      "Episode: 99\n",
      "State: [4 4]\n"
     ]
    },
    {
     "data": {
      "image/png": "[encoded data removed]",
      "text/plain": [
       "<Figure size 432x288 with 1 Axes>"
      ]
     },
     "metadata": {},
     "output_type": "display_data"
    }
   ],
   "source": [
    "env = GridEnvironment() # note: we do not normalize\n",
    "agent = QLearningAgent(env)\n",
    "episodes = 100 # number of games we want the agent to play\n",
    "delta_epsilon = agent.epsilon/episodes\n",
    "decay_rate = 0.9\n",
    "\n",
    "total_rewards = []\n",
    "epsilons = [agent.epsilon]\n",
    "\n",
    "# Training Process (Task 3) (20 points)\n",
    "for i in range(episodes):\n",
    "    observation = env.reset()\n",
    "    done = False\n",
    "    curr_state = observation.copy()\n",
    "    rewards = 0\n",
    "    while not done:\n",
    "        \n",
    "        clear_output(True)\n",
    "        print(\"Episode:\",i)\n",
    "        print(\"State:\", curr_state)\n",
    "        env.render()\n",
    "        plt.show()\n",
    "        time.sleep(0.03)\n",
    "        \n",
    "        action = agent.step(curr_state)\n",
    "        observation, reward, done, info = env.step(action)\n",
    "        next_state = observation.copy()\n",
    "        agent.update(curr_state, action, reward, next_state)\n",
    "        curr_state = next_state.copy()\n",
    "        rewards += reward\n",
    "        \n",
    "        clear_output(True)\n",
    "        print(\"Episode:\",i)\n",
    "        print(\"State:\", curr_state)\n",
    "        env.render()\n",
    "        plt.show()\n",
    "        time.sleep(0.03)\n",
    "        \n",
    "    #Exponential Decay Epsilon\n",
    "    #As delta_epsilon is too low for exponential decay, so using a higher decay rate instead\n",
    "    new_epsilon = agent.epsilon * decay_rate  #agent.epsilon * delta_epsilon\n",
    "    agent.set_epsilon(new_epsilon)\n",
    "    epsilons.append(new_epsilon)\n",
    "    \n",
    "    total_rewards.append(rewards)\n"
   ]
  },
  {
   "cell_type": "markdown",
   "metadata": {
    "colab_type": "text",
    "id": "AHDJV4ZAE2l8"
   },
   "source": [
    "#### Visualize $\\epsilon$\n",
    "Plot our value of $\\epsilon$ over each episode"
   ]
  },
  {
   "cell_type": "code",
   "execution_count": 17,
   "metadata": {
    "colab": {},
    "colab_type": "code",
    "id": "q137fw4je8ln"
   },
   "outputs": [
    {
     "data": {
      "text/plain": [
       "[<matplotlib.lines.Line2D at 0x11e6ebd68>]"
      ]
     },
     "execution_count": 17,
     "metadata": {},
     "output_type": "execute_result"
    },
    {
     "data": {
      "image/png": "[encoded data removed]",
      "text/plain": [
       "<Figure size 432x288 with 1 Axes>"
      ]
     },
     "metadata": {},
     "output_type": "display_data"
    }
   ],
   "source": [
    "plt.xlabel('Episode')\n",
    "plt.ylabel('$\\epsilon$')\n",
    "plt.plot(epsilons)"
   ]
  },
  {
   "cell_type": "markdown",
   "metadata": {
    "colab_type": "text",
    "id": "30Yr74K2e8lr"
   },
   "source": [
    "#### Visualize Rewards"
   ]
  },
  {
   "cell_type": "code",
   "execution_count": 18,
   "metadata": {
    "colab": {},
    "colab_type": "code",
    "id": "Raqojkywe8ls"
   },
   "outputs": [
    {
     "data": {
      "text/plain": [
       "[<matplotlib.lines.Line2D at 0x11b1f63c8>]"
      ]
     },
     "execution_count": 18,
     "metadata": {},
     "output_type": "execute_result"
    },
    {
     "data": {
      "image/png": "[encoded data removed]",
      "text/plain": [
       "<Figure size 432x288 with 1 Axes>"
      ]
     },
     "metadata": {},
     "output_type": "display_data"
    }
   ],
   "source": [
    "window = 10\n",
    "plt.xlabel('Episode')\n",
    "plt.ylabel('Total Reward (SMA 10)')\n",
    "plt.plot([np.mean(total_rewards[tr:tr+window]) for tr in range(window, len(total_rewards))])"
   ]
  },
  {
   "cell_type": "code",
   "execution_count": 25,
   "metadata": {
    "colab": {},
    "colab_type": "code",
    "id": "M6wai0MeiGVG",
    "scrolled": true
   },
   "outputs": [
    {
     "data": {
      "image/png": "[encoded data removed]",
      "text/plain": [
       "<Figure size 432x288 with 1 Axes>"
      ]
     },
     "metadata": {},
     "output_type": "display_data"
    },
    {
     "data": {
      "image/png": "[encoded data removed]",
      "text/plain": [
       "<Figure size 432x288 with 1 Axes>"
      ]
     },
     "metadata": {},
     "output_type": "display_data"
    },
    {
     "data": {
      "image/png": "[encoded data removed]",
      "text/plain": [
       "<Figure size 432x288 with 1 Axes>"
      ]
     },
     "metadata": {},
     "output_type": "display_data"
    },
    {
     "data": {
      "image/png": "[encoded data removed]",
      "text/plain": [
       "<Figure size 432x288 with 1 Axes>"
      ]
     },
     "metadata": {},
     "output_type": "display_data"
    },
    {
     "data": {
      "image/png": "[encoded data removed]",
      "text/plain": [
       "<Figure size 432x288 with 1 Axes>"
      ]
     },
     "metadata": {},
     "output_type": "display_data"
    },
    {
     "data": {
      "image/png": "[encoded data removed]",
      "text/plain": [
       "<Figure size 432x288 with 1 Axes>"
      ]
     },
     "metadata": {},
     "output_type": "display_data"
    },
    {
     "data": {
      "image/png": "[encoded data removed]",
      "text/plain": [
       "<Figure size 432x288 with 1 Axes>"
      ]
     },
     "metadata": {},
     "output_type": "display_data"
    },
    {
     "data": {
      "image/png": "[encoded data removed]",
      "text/plain": [
       "<Figure size 432x288 with 1 Axes>"
      ]
     },
     "metadata": {},
     "output_type": "display_data"
    },
    {
     "data": {
      "image/png": "[encoded data removed]",
      "text/plain": [
       "<Figure size 432x288 with 1 Axes>"
      ]
     },
     "metadata": {},
     "output_type": "display_data"
    }
   ],
   "source": [
    "env = GridEnvironment()\n",
    "\n",
    "obs = env.reset()\n",
    "done = False\n",
    "agent.epsilon = 0\n",
    "env.render()\n",
    "plt.ion()\n",
    "plt.show()\n",
    "\n",
    "while not done:\n",
    "    action = agent.step(obs)\n",
    "    obs, reward, done, info = env.step(action)\n",
    "    env.render()\n",
    "    plt.show()\n",
    "    plt.pause(0.05)"
   ]
  },
  {
   "cell_type": "markdown",
   "metadata": {},
   "source": [
    "## The agent follows an optimal policy in which takes 8 steps to reach from Source to Desination"
   ]
  }
 ],
 "metadata": {
  "colab": {
   "collapsed_sections": [],
   "name": "Template of Tabular Q-Learning",
   "provenance": []
  },
  "kernelspec": {
   "display_name": "Python 3",
   "language": "python",
   "name": "python3"
  },
  "language_info": {
   "codemirror_mode": {
    "name": "ipython",
    "version": 3
   },
   "file_extension": ".py",
   "mimetype": "text/x-python",
   "name": "python",
   "nbconvert_exporter": "python",
   "pygments_lexer": "ipython3",
   "version": "3.6.8"
  }
 },
 "nbformat": 4,
 "nbformat_minor": 1
}
